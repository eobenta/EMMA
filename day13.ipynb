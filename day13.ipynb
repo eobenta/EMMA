{
 "cells": [
  {
   "cell_type": "markdown",
   "id": "6817c9fc",
   "metadata": {},
   "source": [
    "#class and object"
   ]
  },
  {
   "cell_type": "code",
   "execution_count": 1,
   "id": "7b229f07",
   "metadata": {},
   "outputs": [
    {
     "name": "stdout",
     "output_type": "stream",
     "text": [
      "Mammal\n"
     ]
    }
   ],
   "source": [
    "class dog:\n",
    "    attr1 = 'Mammal'\n",
    "    attr2 = 'Black'\n",
    "obj1 = dog()\n",
    "print(obj1.attr1)"
   ]
  },
  {
   "cell_type": "code",
   "execution_count": 7,
   "id": "19541bfa",
   "metadata": {},
   "outputs": [
    {
     "name": "stdout",
     "output_type": "stream",
     "text": [
      "Rocky belongs to the family of Mammal\n",
      "None\n"
     ]
    }
   ],
   "source": [
    "class dog:\n",
    "    attr1 = 'Mammal'\n",
    "    attr2 = 'Black'\n",
    "    def family(self):\n",
    "        print(f'Rocky belongs to the family of {self.attr1}')\n",
    "obj1 = dog()\n",
    "print(obj1.family())"
   ]
  },
  {
   "cell_type": "code",
   "execution_count": 6,
   "id": "ee0e3bd2",
   "metadata": {},
   "outputs": [
    {
     "ename": "NameError",
     "evalue": "name 'goat' is not defined",
     "output_type": "error",
     "traceback": [
      "\u001b[1;31m---------------------------------------------------------------------------\u001b[0m",
      "\u001b[1;31mNameError\u001b[0m                                 Traceback (most recent call last)",
      "Input \u001b[1;32mIn [6]\u001b[0m, in \u001b[0;36m<cell line: 6>\u001b[1;34m()\u001b[0m\n\u001b[0;32m      4\u001b[0m     \u001b[38;5;28;01mdef\u001b[39;00m \u001b[38;5;21mfamily\u001b[39m(\u001b[38;5;28mself\u001b[39m):\n\u001b[0;32m      5\u001b[0m         \u001b[38;5;28mprint\u001b[39m(\u001b[38;5;124mf\u001b[39m\u001b[38;5;124m'\u001b[39m\u001b[38;5;124mRocky belongs to the family of \u001b[39m\u001b[38;5;132;01m{\u001b[39;00m\u001b[38;5;28mself\u001b[39m\u001b[38;5;241m.\u001b[39mattr1\u001b[38;5;132;01m}\u001b[39;00m\u001b[38;5;124m'\u001b[39m)\n\u001b[1;32m----> 6\u001b[0m obj1 \u001b[38;5;241m=\u001b[39m \u001b[43mgoat\u001b[49m()\n\u001b[0;32m      7\u001b[0m \u001b[38;5;28mprint\u001b[39m(obj1\u001b[38;5;241m.\u001b[39mfamily())\n",
      "\u001b[1;31mNameError\u001b[0m: name 'goat' is not defined"
     ]
    }
   ],
   "source": [
    "class dog:\n",
    "    attr1 = 'Mammal'\n",
    "    attr2 = 'Black'\n",
    "    def family(self):\n",
    "        print(f'Rocky belongs to the family of {self.attr1}')\n",
    "obj1 = dog()\n",
    "print(obj1.family())"
   ]
  },
  {
   "cell_type": "code",
   "execution_count": 17,
   "id": "a937d66e",
   "metadata": {},
   "outputs": [],
   "source": [
    "#brand,model,year,speed,color\n",
    "class simulationgame:\n",
    "    def __init__(self,brand,model,color,year,speed):\n",
    "        self.brand = brand\n",
    "        self.model = model\n",
    "        self.color = color\n",
    "        self.year = year\n",
    "        self.speed = speed\n",
    "    def start(self):\n",
    "        print(f'{self.brand} {self.model} has started')\n",
    "    def gear(self):\n",
    "        choice = int(input('please choose a gear:'))\n",
    "        if choice == 1:\n",
    "            print('Gear changed to 1')\n",
    "        elif choice ==2:\n",
    "            print('Gear changed to 2')\n",
    "        elif choice ==3:\n",
    "            print('Gear changed to 3') \n",
    "        elif choice ==4:\n",
    "            print('Gear changed to 4')\n",
    "        elif choice ==5:\n",
    "            print('Gear change to 5')\n",
    "        elif choice ==6:\n",
    "            print('Gear put on reverse')\n",
    "    def nitro(self,ch):\n",
    "        if ch == 1:\n",
    "            print('Nitro Engaged')\n",
    "        else:\n",
    "            print('Nitro DisEngaged')\n",
    "    def stop(self):\n",
    "        print(f'{self.brand} {self.model} has stopped and parked')\n",
    "car1 = simulationgame('Audi','A4','Blue',2018,350)\n",
    "\n",
    "            "
   ]
  },
  {
   "cell_type": "code",
   "execution_count": 18,
   "id": "5ff35a60",
   "metadata": {},
   "outputs": [
    {
     "name": "stdout",
     "output_type": "stream",
     "text": [
      "Audi A4 has started\n"
     ]
    }
   ],
   "source": [
    "car1.start()"
   ]
  },
  {
   "cell_type": "code",
   "execution_count": 19,
   "id": "4de21cae",
   "metadata": {},
   "outputs": [
    {
     "name": "stdout",
     "output_type": "stream",
     "text": [
      "please choose a gear:3\n",
      "Gear changed to 3\n"
     ]
    }
   ],
   "source": [
    "car1.gear()"
   ]
  },
  {
   "cell_type": "code",
   "execution_count": 20,
   "id": "8de59682",
   "metadata": {},
   "outputs": [
    {
     "name": "stdout",
     "output_type": "stream",
     "text": [
      "Nitro Engaged\n"
     ]
    }
   ],
   "source": [
    "car1.nitro(1)"
   ]
  },
  {
   "cell_type": "code",
   "execution_count": 21,
   "id": "610d1dec",
   "metadata": {},
   "outputs": [
    {
     "name": "stdout",
     "output_type": "stream",
     "text": [
      "Audi A4 has stopped and parked\n"
     ]
    }
   ],
   "source": [
    "car1.stop()"
   ]
  },
  {
   "cell_type": "code",
   "execution_count": 22,
   "id": "b6df3921",
   "metadata": {},
   "outputs": [
    {
     "name": "stdout",
     "output_type": "stream",
     "text": [
      "Golf M5 has started\n"
     ]
    }
   ],
   "source": [
    "class sedan(simulationgame):\n",
    "    def openroof(self,ch):\n",
    "        if ch == 1:\n",
    "            print('Roof opend')\n",
    "        else:\n",
    "            print('roof closed')\n",
    "car2 = sedan('Golf','M5','Black',2021,400)\n",
    "car2.start()"
   ]
  },
  {
   "cell_type": "code",
   "execution_count": 34,
   "id": "abd4816d",
   "metadata": {},
   "outputs": [],
   "source": [
    "class sonic:\n",
    "    def __init__(self,charactername,charactercolor,mainpower,generalpower):\n",
    "        self.charactername = charactername\n",
    "        self.charactercolor = charactercolor\n",
    "        self.mainpower = mainpower\n",
    "        self.generalpower = generalpower\n",
    "    def start(self):\n",
    "        print(f'{self.charactername} {self.charactercolor} has started')\n",
    "    def obstacle1(self):\n",
    "        choice = int(input('Select choice'))\n",
    "        if choice == 1:\n",
    "            print('1 to Jump over')\n",
    "        elif choice ==2:\n",
    "            print('2 to roll under')\n",
    "    def obstacle2(self):\n",
    "        choice = int(input('Select choice'))\n",
    "        if choice == 1:\n",
    "            print('1 to jump over')\n",
    "        elif choice ==2:\n",
    "            print('2 activate power boot and jump over')\n",
    "    def direction(self):\n",
    "        option = input('choose direction')\n",
    "        if option == 'L':\n",
    "            print('change direction to left')\n",
    "        elif option == 'R':\n",
    "            print('change direction to right')\n",
    "    def end(self):\n",
    "        print(f'{self.charactername} end the game')\n",
    "player1=sonic('Hedgehog','Blue','Supermash','miles tails prower')"
   ]
  },
  {
   "cell_type": "code",
   "execution_count": 35,
   "id": "2775ee99",
   "metadata": {},
   "outputs": [
    {
     "name": "stdout",
     "output_type": "stream",
     "text": [
      "Hedgehog Blue has started\n"
     ]
    }
   ],
   "source": [
    "player1.start()"
   ]
  },
  {
   "cell_type": "code",
   "execution_count": 37,
   "id": "6a335d8e",
   "metadata": {},
   "outputs": [
    {
     "name": "stdout",
     "output_type": "stream",
     "text": [
      "Select choice1\n",
      "1 to Jump over\n"
     ]
    }
   ],
   "source": [
    "player1.obstacle1()\n"
   ]
  },
  {
   "cell_type": "code",
   "execution_count": 39,
   "id": "bd5af9e8",
   "metadata": {},
   "outputs": [
    {
     "name": "stdout",
     "output_type": "stream",
     "text": [
      "Select choice2\n",
      "2 activate power boot and jump over\n"
     ]
    }
   ],
   "source": [
    "player1.obstacle2()"
   ]
  },
  {
   "cell_type": "code",
   "execution_count": 40,
   "id": "6053ae77",
   "metadata": {},
   "outputs": [
    {
     "name": "stdout",
     "output_type": "stream",
     "text": [
      "choose directionL\n",
      "change direction to left\n"
     ]
    }
   ],
   "source": [
    "player1.direction()"
   ]
  },
  {
   "cell_type": "code",
   "execution_count": 41,
   "id": "c7b4bf5b",
   "metadata": {},
   "outputs": [
    {
     "name": "stdout",
     "output_type": "stream",
     "text": [
      "Hedgehog end the game\n"
     ]
    }
   ],
   "source": [
    "player1.end()"
   ]
  },
  {
   "cell_type": "code",
   "execution_count": null,
   "id": "90faad0b",
   "metadata": {},
   "outputs": [],
   "source": []
  }
 ],
 "metadata": {
  "kernelspec": {
   "display_name": "Python 3 (ipykernel)",
   "language": "python",
   "name": "python3"
  },
  "language_info": {
   "codemirror_mode": {
    "name": "ipython",
    "version": 3
   },
   "file_extension": ".py",
   "mimetype": "text/x-python",
   "name": "python",
   "nbconvert_exporter": "python",
   "pygments_lexer": "ipython3",
   "version": "3.9.12"
  }
 },
 "nbformat": 4,
 "nbformat_minor": 5
}
