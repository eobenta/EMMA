{
 "cells": [
  {
   "cell_type": "code",
   "execution_count": 1,
   "id": "6532ae11",
   "metadata": {},
   "outputs": [
    {
     "ename": "IndentationError",
     "evalue": "expected an indented block (3975513398.py, line 8)",
     "output_type": "error",
     "traceback": [
      "\u001b[1;36m  Input \u001b[1;32mIn [1]\u001b[1;36m\u001b[0m\n\u001b[1;33m    \u001b[0m\n\u001b[1;37m    ^\u001b[0m\n\u001b[1;31mIndentationError\u001b[0m\u001b[1;31m:\u001b[0m expected an indented block\n"
     ]
    }
   ],
   "source": [
    "class recordmanagement:\n",
    "    def __init__(self,phoneaccessories,invoicebook,inventorybook):\n",
    "        self.phoneaccesories = phoneaccessories\n",
    "        self.invoicebook = invoicebook\n",
    "        self.inventorybook = inventorybook\n",
    "    def (self):\n",
    "     \n",
    "                "
   ]
  },
  {
   "cell_type": "code",
   "execution_count": 9,
   "id": "d2cea9db",
   "metadata": {},
   "outputs": [
    {
     "name": "stdout",
     "output_type": "stream",
     "text": [
      "enter Y as yes and N as no to perform your operation:Y\n",
      "Phone Name:Nokia\n",
      "Model Number:NB334\n",
      "Price:#45,000\n"
     ]
    },
    {
     "ename": "NameError",
     "evalue": "name 'PhoneNumber' is not defined",
     "output_type": "error",
     "traceback": [
      "\u001b[1;31m---------------------------------------------------------------------------\u001b[0m",
      "\u001b[1;31mNameError\u001b[0m                                 Traceback (most recent call last)",
      "Input \u001b[1;32mIn [9]\u001b[0m, in \u001b[0;36m<cell line: 17>\u001b[1;34m()\u001b[0m\n\u001b[0;32m     19\u001b[0m     ModelNumber \u001b[38;5;241m=\u001b[39m \u001b[38;5;28minput\u001b[39m(\u001b[38;5;124m'\u001b[39m\u001b[38;5;124mModel Number:\u001b[39m\u001b[38;5;124m'\u001b[39m)\n\u001b[0;32m     20\u001b[0m     Price \u001b[38;5;241m=\u001b[39m \u001b[38;5;28minput\u001b[39m(\u001b[38;5;124m'\u001b[39m\u001b[38;5;124mPrice:\u001b[39m\u001b[38;5;124m'\u001b[39m)\n\u001b[1;32m---> 21\u001b[0m     record \u001b[38;5;241m=\u001b[39m \u001b[43mprices\u001b[49m\u001b[43m(\u001b[49m\u001b[43mrecord\u001b[49m\u001b[43m,\u001b[49m\u001b[43mPhoneName\u001b[49m\u001b[43m,\u001b[49m\u001b[43mModelNumber\u001b[49m\u001b[43m,\u001b[49m\u001b[43mPrice\u001b[49m\u001b[43m)\u001b[49m\n\u001b[0;32m     22\u001b[0m     x \u001b[38;5;241m=\u001b[39m \u001b[38;5;28minput\u001b[39m(\u001b[38;5;124m'\u001b[39m\u001b[38;5;124menter Y as yes and N as no to perform your operation:\u001b[39m\u001b[38;5;124m'\u001b[39m)\n\u001b[0;32m     23\u001b[0m n \u001b[38;5;241m=\u001b[39m \u001b[38;5;241m1\u001b[39m\n",
      "Input \u001b[1;32mIn [9]\u001b[0m, in \u001b[0;36mprices\u001b[1;34m(rec, PhoneName, ModelNumber, Price)\u001b[0m\n\u001b[0;32m     12\u001b[0m \u001b[38;5;28;01mdef\u001b[39;00m \u001b[38;5;21mprices\u001b[39m(rec,PhoneName,ModelNumber,Price):\n\u001b[1;32m---> 13\u001b[0m     rec\u001b[38;5;241m.\u001b[39mappend(phonesstore(\u001b[43mPhoneNumber\u001b[49m,ModelNumber,Price))\n\u001b[0;32m     14\u001b[0m     \u001b[38;5;28;01mreturn\u001b[39;00m rec\n",
      "\u001b[1;31mNameError\u001b[0m: name 'PhoneNumber' is not defined"
     ]
    }
   ],
   "source": [
    "class phonesstore:\n",
    "    def __init__ (self,PhoneName,ModelNumber,Price):\n",
    "        self.PhoneNumber = PhoneNumber\n",
    "        self.ModelNumber = ModelNumber\n",
    "        self.Price = Price\n",
    "    def getprice(self):\n",
    "        return self.Price\n",
    "    def getmodel(self):\n",
    "        return self.ModelNumber\n",
    "    def __str__(self):\n",
    "        return self.PhoneNumber + ':' + str(self.getmodel())+ '::' + str(self.getprice())\n",
    "def prices(rec,PhoneName,ModelNumber,Price):\n",
    "    rec.append(phonesstore(PhoneNumber,ModelNumber,Price))\n",
    "    return rec\n",
    "record = []\n",
    "x = input('enter Y as yes and N as no to perform your operation:')\n",
    "while x == 'Y':\n",
    "    PhoneName = input('Phone Name:')\n",
    "    ModelNumber = input('Model Number:')\n",
    "    Price = input('Price:')\n",
    "    record = prices(record,PhoneName,ModelNumber,Price)\n",
    "    x = input('enter Y as yes and N as no to perform your operation:')\n",
    "n = 1\n",
    "print(\"======= The list of the phone that the store have=======\")\n",
    "for item in record:\n",
    "    print(n, '.', item)\n",
    "    n = n+1"
   ]
  },
  {
   "cell_type": "code",
   "execution_count": 4,
   "id": "1777924d",
   "metadata": {},
   "outputs": [],
   "source": [
    "#try\n",
    "#except\n",
    "#else\n",
    "#finally"
   ]
  },
  {
   "cell_type": "code",
   "execution_count": 5,
   "id": "c6fd4f26",
   "metadata": {},
   "outputs": [
    {
     "name": "stdout",
     "output_type": "stream",
     "text": [
      "Enter First Number45\n",
      "Enter Second Number23\n",
      "+:Addition\n",
      "-:Subtration\n",
      "*:Multiplication\n",
      "/:Division\n",
      "*\n",
      "45 x 23 = 1035\n",
      "45 ** 23 = 105654455657631171893227100372314453125\n",
      "End of program\n"
     ]
    }
   ],
   "source": [
    "try:\n",
    "    num1 = int(input('Enter First Number'))\n",
    "    num2 = int(input('Enter Second Number'))\n",
    "    operation = input('''+:Addition\n",
    "-:Subtration\n",
    "*:Multiplication\n",
    "/:Division\n",
    "''')\n",
    "    if operation == '+':\n",
    "        print(f'{num1} + {num2} = {num1 + num2}')\n",
    "    elif operation == '-':\n",
    "        print(f'{num1} - {num2} = {num1 - num2}')\n",
    "    elif operation == '*':\n",
    "        print(f'{num1} x {num2} = {num1 * num2}')\n",
    "    elif operatio == '/':\n",
    "        print(f'{num1} / {num2} = {num1 / num2}')\n",
    "except ValueError:\n",
    "    print('You have entered a wrong value only inter value should be entered')\n",
    "except ZeroDivisionError:\n",
    "    print('You cannot divide a number by zero')\n",
    "except:\n",
    "    print('You have encountered one or more errors')\n",
    "else:\n",
    "    print(f'{num1} ** {num2} = {num1**num2}')\n",
    "finally:\n",
    "    print('End of program')\n",
    "    \n"
   ]
  },
  {
   "cell_type": "code",
   "execution_count": null,
   "id": "78451af9",
   "metadata": {},
   "outputs": [],
   "source": []
  }
 ],
 "metadata": {
  "kernelspec": {
   "display_name": "Python 3 (ipykernel)",
   "language": "python",
   "name": "python3"
  },
  "language_info": {
   "codemirror_mode": {
    "name": "ipython",
    "version": 3
   },
   "file_extension": ".py",
   "mimetype": "text/x-python",
   "name": "python",
   "nbconvert_exporter": "python",
   "pygments_lexer": "ipython3",
   "version": "3.9.12"
  }
 },
 "nbformat": 4,
 "nbformat_minor": 5
}
