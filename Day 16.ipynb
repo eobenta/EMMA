{
 "cells": [
  {
   "cell_type": "markdown",
   "metadata": {},
   "source": [
    "import datetime"
   ]
  },
  {
   "cell_type": "code",
   "execution_count": 2,
   "metadata": {},
   "outputs": [
    {
     "name": "stdout",
     "output_type": "stream",
     "text": [
      "['MAXYEAR', 'MINYEAR', '__builtins__', '__cached__', '__doc__', '__file__', '__loader__', '__name__', '__package__', '__spec__', 'date', 'datetime', 'datetime_CAPI', 'sys', 'time', 'timedelta', 'timezone', 'tzinfo']\n"
     ]
    }
   ],
   "source": [
    "print(dir(datetime))"
   ]
  },
  {
   "cell_type": "code",
   "execution_count": 3,
   "metadata": {},
   "outputs": [],
   "source": [
    "date1 = datetime.date(2022,2,24)"
   ]
  },
  {
   "cell_type": "code",
   "execution_count": 11,
   "metadata": {},
   "outputs": [
    {
     "name": "stdout",
     "output_type": "stream",
     "text": [
      "2022\n",
      "2\n",
      "24\n",
      "3\n",
      "4\n"
     ]
    }
   ],
   "source": [
    "print(date1.year)\n",
    "print(date1.month)\n",
    "print(date1.day)\n",
    "print(date1.weekday())\n",
    "print(date1.isoweekday())"
   ]
  },
  {
   "cell_type": "code",
   "execution_count": 6,
   "metadata": {},
   "outputs": [
    {
     "name": "stdout",
     "output_type": "stream",
     "text": [
      "2022-06-21\n"
     ]
    }
   ],
   "source": [
    "currentdate = datetime.date.today()\n",
    "print(currentdate)"
   ]
  },
  {
   "cell_type": "code",
   "execution_count": 9,
   "metadata": {},
   "outputs": [
    {
     "data": {
      "text/plain": [
       "'21 June, 2022'"
      ]
     },
     "execution_count": 9,
     "metadata": {},
     "output_type": "execute_result"
    }
   ],
   "source": [
    "#strftime: This is use for the modification of date and time\n",
    "currentdate.strftime('%d %B, %Y')"
   ]
  },
  {
   "cell_type": "code",
   "execution_count": 10,
   "metadata": {},
   "outputs": [],
   "source": [
    "time1 = datetime.time(10,54,59,150000)"
   ]
  },
  {
   "cell_type": "code",
   "execution_count": 13,
   "metadata": {},
   "outputs": [
    {
     "name": "stdout",
     "output_type": "stream",
     "text": [
      "10\n",
      "54\n",
      "59\n",
      "150000\n"
     ]
    }
   ],
   "source": [
    "print(time1.hour)\n",
    "print(time1.minute)\n",
    "print(time1.second)\n",
    "print(time1.microsecond)"
   ]
  },
  {
   "cell_type": "code",
   "execution_count": 15,
   "metadata": {},
   "outputs": [
    {
     "ename": "NameError",
     "evalue": "name 'currentime' is not defined",
     "output_type": "error",
     "traceback": [
      "\u001b[1;31m---------------------------------------------------------------------------\u001b[0m",
      "\u001b[1;31mNameError\u001b[0m                                 Traceback (most recent call last)",
      "\u001b[1;32m<ipython-input-15-be30adbf559a>\u001b[0m in \u001b[0;36m<module>\u001b[1;34m\u001b[0m\n\u001b[1;32m----> 1\u001b[1;33m \u001b[0mcurrentime\u001b[0m\u001b[1;33m.\u001b[0m\u001b[0mstrftime\u001b[0m\u001b[1;33m(\u001b[0m\u001b[1;34m'%p'\u001b[0m\u001b[1;33m)\u001b[0m\u001b[1;33m\u001b[0m\u001b[1;33m\u001b[0m\u001b[0m\n\u001b[0m",
      "\u001b[1;31mNameError\u001b[0m: name 'currentime' is not defined"
     ]
    }
   ],
   "source": [
    "print(time1.hour)\n",
    "print(time1.minute)\n",
    "print(time1.second)\n",
    "print(time1.microsecond)"
   ]
  },
  {
   "cell_type": "code",
   "execution_count": 18,
   "metadata": {},
   "outputs": [
    {
     "name": "stdout",
     "output_type": "stream",
     "text": [
      "2022-06-21 16:46:14.738875\n"
     ]
    }
   ],
   "source": [
    "currentdatetime = datetime.datetime.now()\n",
    "print(currentdatetime)"
   ]
  },
  {
   "cell_type": "code",
   "execution_count": 19,
   "metadata": {},
   "outputs": [],
   "source": [
    "#Have a list of 5 friends and forward a message stating \"Hey {name of friends in the list} this is a kind of reminder of our party holding on the 25 july, 2022 12pm prompt\""
   ]
  },
  {
   "cell_type": "code",
   "execution_count": 23,
   "metadata": {},
   "outputs": [
    {
     "name": "stdout",
     "output_type": "stream",
     "text": [
      "Hey {'Ade'} this is a kind reminder of our party holding on the 25 July, 2022 12AM prompt\n",
      "Hey {'Peter'} this is a kind reminder of our party holding on the 25 July, 2022 12AM prompt\n",
      "Hey {'Philip'} this is a kind reminder of our party holding on the 25 July, 2022 12AM prompt\n",
      "Hey {'Ben'} this is a kind reminder of our party holding on the 25 July, 2022 12AM prompt\n",
      "Hey {'Sunday'} this is a kind reminder of our party holding on the 25 July, 2022 12AM prompt\n"
     ]
    }
   ],
   "source": [
    "friends = ['Ade','Peter','Philip','Ben','Sunday']\n",
    "date2 = datetime.date(2022,7,25)\n",
    "for name in friends:\n",
    "    print('Hey',{name},'this is a kind reminder of our party holding on the', date2.strftime('%d %B, %Y %I%p prompt'))"
   ]
  },
  {
   "cell_type": "code",
   "execution_count": 25,
   "metadata": {},
   "outputs": [
    {
     "name": "stdout",
     "output_type": "stream",
     "text": [
      "Please Enter your date of birth (yy/mm/dd):1975/08/18\n",
      "1975-08-18\n"
     ]
    }
   ],
   "source": [
    "DOB = input('Please Enter your date of birth (yy/mm/dd):')\n",
    "cdob = datetime.datetime.strptime(DOB,'%Y/%m/%d').date()\n",
    "print(cdob)\n"
   ]
  },
  {
   "cell_type": "code",
   "execution_count": 26,
   "metadata": {},
   "outputs": [],
   "source": [
    "#time delta: this is the difference between two dates and two time"
   ]
  },
  {
   "cell_type": "code",
   "execution_count": 27,
   "metadata": {},
   "outputs": [
    {
     "data": {
      "text/plain": [
       "datetime.date(2023, 1, 7)"
      ]
     },
     "execution_count": 27,
     "metadata": {},
     "output_type": "execute_result"
    }
   ],
   "source": [
    "tdelta = datetime.timedelta(days = 200)\n",
    "currentdate + tdelta"
   ]
  },
  {
   "cell_type": "code",
   "execution_count": 28,
   "metadata": {},
   "outputs": [
    {
     "data": {
      "text/plain": [
       "datetime.date(2021, 12, 3)"
      ]
     },
     "execution_count": 28,
     "metadata": {},
     "output_type": "execute_result"
    }
   ],
   "source": [
    "currentdate - tdelta"
   ]
  },
  {
   "cell_type": "code",
   "execution_count": 29,
   "metadata": {},
   "outputs": [
    {
     "data": {
      "text/plain": [
       "datetime.timedelta(days=117)"
      ]
     },
     "execution_count": 29,
     "metadata": {},
     "output_type": "execute_result"
    }
   ],
   "source": [
    "currentdate - date1"
   ]
  },
  {
   "cell_type": "code",
   "execution_count": 33,
   "metadata": {},
   "outputs": [
    {
     "name": "stdout",
     "output_type": "stream",
     "text": [
      "What positiondoes Marcelo plays for Real Mardrid:LB\n",
      "How many clubs do we have in the Nertherland league:18\n",
      "How many legs do a spider has:9\n",
      "What type of language is python:Programming\n",
      "Your score is 10 in 78 second\n"
     ]
    }
   ],
   "source": [
    "#Write a program to calculate how seconds it takes to answer 5 questions\n",
    "score = 0\n",
    "time = 0\n",
    "output = {\n",
    "    'Q1':['GK','AM','SW','LB'],\n",
    "    'Q2':[16,15,45,20,18],\n",
    "    'Q3':[6,3,4,5,6],\n",
    "    'Q4':[9,8,10,15],\n",
    "    'Q5':['Programming','High','Scripting','Machine']\n",
    "}\n",
    "start_time = datetime.datetime.now()\n",
    "answer = input('What positiondoes Marcelo plays for Real Mardrid:')\n",
    "if answer == output['Q1'][3]:\n",
    "    score = score + 5\n",
    "else:\n",
    "    score = score + 0\n",
    "    \n",
    "answer =int(input('How many clubs do we have in the Nertherland league:'))\n",
    "if answer == output['Q2'][4]:\n",
    "    score == score + 5\n",
    "else:\n",
    "    score = score + 0\n",
    "\n",
    "answer =int(input('How many legs do a spider has:'))\n",
    "if answer == output['Q4'][1]:\n",
    "    score = score + 5\n",
    "else:\n",
    "    score = score + 0\n",
    "    \n",
    "answer = input('What type of language is python:')\n",
    "if answer == output['Q5'][0]:\n",
    "    score = score + 5\n",
    "else:\n",
    "    score = score + 0\n",
    "    \n",
    "stop_time = datetime.datetime.now()\n",
    "diff = stop_time - start_time\n",
    "time = diff.seconds\n",
    "print(f'Your score is {score} in {time} second')\n",
    "    "
   ]
  },
  {
   "cell_type": "code",
   "execution_count": null,
   "metadata": {},
   "outputs": [],
   "source": []
  },
  {
   "cell_type": "code",
   "execution_count": null,
   "metadata": {},
   "outputs": [],
   "source": []
  }
 ],
 "metadata": {
  "kernelspec": {
   "display_name": "Python 3",
   "language": "python",
   "name": "python3"
  },
  "language_info": {
   "codemirror_mode": {
    "name": "ipython",
    "version": 3
   },
   "file_extension": ".py",
   "mimetype": "text/x-python",
   "name": "python",
   "nbconvert_exporter": "python",
   "pygments_lexer": "ipython3",
   "version": "3.8.5"
  }
 },
 "nbformat": 4,
 "nbformat_minor": 4
}
